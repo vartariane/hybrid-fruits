{
 "cells": [
  {
   "cell_type": "code",
   "execution_count": null,
   "id": "b8a32bd8",
   "metadata": {},
   "outputs": [],
   "source": [
    "import pandas as pd\n",
    "import numpy as np\n",
    "import altair as alt"
   ]
  },
  {
   "cell_type": "code",
   "execution_count": null,
   "id": "0d3d6d55",
   "metadata": {},
   "outputs": [],
   "source": [
    "google_data = pd.read_csv(\"google-patent-data.csv\")\n",
    "google_data.head()"
   ]
  },
  {
   "cell_type": "code",
   "execution_count": null,
   "id": "c00c1889",
   "metadata": {},
   "outputs": [],
   "source": [
    "scraped_data = pd.read_csv(\"scraped_patents.csv\")\n",
    "scraped_data.head()"
   ]
  },
  {
   "cell_type": "code",
   "execution_count": null,
   "id": "f015f533",
   "metadata": {},
   "outputs": [],
   "source": [
    "google_data.shape"
   ]
  },
  {
   "cell_type": "code",
   "execution_count": null,
   "id": "45732094",
   "metadata": {},
   "outputs": [],
   "source": [
    "scraped_data.shape"
   ]
  },
  {
   "cell_type": "code",
   "execution_count": null,
   "id": "13ccbc53",
   "metadata": {},
   "outputs": [],
   "source": [
    "patents = pd.merge(google_data, scraped_data, left_on='result link', right_on='url')\n",
    "patents.head()"
   ]
  },
  {
   "cell_type": "code",
   "execution_count": null,
   "id": "5d7bb708",
   "metadata": {},
   "outputs": [],
   "source": [
    "patents_cleaned = patents.drop(columns=['id','result link', 'representative figure link', 'flesh.brix_text'])\n",
    "patents_cleaned.head()"
   ]
  },
  {
   "cell_type": "code",
   "execution_count": null,
   "id": "ddbf5750",
   "metadata": {},
   "outputs": [],
   "source": [
    "patents_cleaned.dtypes"
   ]
  },
  {
   "cell_type": "code",
   "execution_count": null,
   "id": "751e707d",
   "metadata": {},
   "outputs": [],
   "source": [
    "patents_cleaned['grant date'] = pd.to_datetime(patents_cleaned['grant date'])\n",
    "\n",
    "patents_cleaned['grant year'] = patents_cleaned['grant date'].dt.year\n",
    "\n",
    "patents_cleaned.head()"
   ]
  },
  {
   "cell_type": "code",
   "execution_count": null,
   "id": "7acbbe8e",
   "metadata": {},
   "outputs": [],
   "source": [
    "year_column = patents_cleaned.pop('grant year')"
   ]
  },
  {
   "cell_type": "code",
   "execution_count": null,
   "id": "d7bd7c9d",
   "metadata": {},
   "outputs": [],
   "source": [
    "patents_cleaned.insert(1, 'year', year_column)"
   ]
  },
  {
   "cell_type": "code",
   "execution_count": null,
   "id": "82d9f140",
   "metadata": {},
   "outputs": [],
   "source": [
    "patents_cleaned.head()"
   ]
  },
  {
   "cell_type": "code",
   "execution_count": null,
   "id": "1c8469e4",
   "metadata": {},
   "outputs": [],
   "source": [
    "patents_cleaned['pluot name'] = patents_cleaned['title'].str.extract(r'[\\'\"`“”‘’](.*?)[\\'\"`“”‘’]', expand=False)"
   ]
  },
  {
   "cell_type": "code",
   "execution_count": null,
   "id": "1291ef23",
   "metadata": {},
   "outputs": [],
   "source": [
    "patents_cleaned.head()"
   ]
  },
  {
   "cell_type": "code",
   "execution_count": null,
   "id": "ecb90ace",
   "metadata": {},
   "outputs": [],
   "source": [
    "patents_cleaned['pluot name'] = patents_cleaned['pluot name'].str.title()"
   ]
  },
  {
   "cell_type": "code",
   "execution_count": null,
   "id": "70c89302",
   "metadata": {},
   "outputs": [],
   "source": [
    "patents_cleaned['pluot name'].to_string(index=False)"
   ]
  },
  {
   "cell_type": "code",
   "execution_count": null,
   "id": "f2d3ac78",
   "metadata": {},
   "outputs": [],
   "source": [
    "name_column = patents_cleaned.pop('pluot name')"
   ]
  },
  {
   "cell_type": "code",
   "execution_count": null,
   "id": "5f18f436",
   "metadata": {},
   "outputs": [],
   "source": [
    "patents_cleaned.insert(1, 'pluot name', name_column)"
   ]
  },
  {
   "cell_type": "code",
   "execution_count": null,
   "id": "121fa353",
   "metadata": {},
   "outputs": [],
   "source": [
    "patents_cleaned.head()"
   ]
  },
  {
   "cell_type": "code",
   "execution_count": null,
   "id": "02b841ed",
   "metadata": {},
   "outputs": [],
   "source": [
    "patents_cleaned.to_csv('patents_cleaned.csv', index=False)"
   ]
  },
  {
   "cell_type": "code",
   "execution_count": null,
   "id": "7bcb8785",
   "metadata": {},
   "outputs": [],
   "source": [
    "handpicked = pd.read_csv(\"handpicked-data.csv\")\n",
    "handpicked.head()"
   ]
  },
  {
   "cell_type": "code",
   "execution_count": null,
   "id": "d3b1643b",
   "metadata": {},
   "outputs": [],
   "source": [
    "pluots_all = pd.merge(patents_cleaned, handpicked, left_on='pluot name', right_on='Varietal', how='outer')\n",
    "pluots_all.head()"
   ]
  },
  {
   "cell_type": "code",
   "execution_count": null,
   "id": "2069eea4",
   "metadata": {},
   "outputs": [],
   "source": [
    "pluots_all.shape"
   ]
  },
  {
   "cell_type": "code",
   "execution_count": null,
   "id": "e189c367",
   "metadata": {},
   "outputs": [],
   "source": [
    "pluots_all['pluot name'] = pluots_all['pluot name'].combine_first(pluots_all['Varietal'])"
   ]
  },
  {
   "cell_type": "code",
   "execution_count": null,
   "id": "0cc1e404",
   "metadata": {},
   "outputs": [],
   "source": [
    "pluots_all.drop(columns='Varietal')"
   ]
  },
  {
   "cell_type": "code",
   "execution_count": null,
   "id": "a8267a0b",
   "metadata": {},
   "outputs": [],
   "source": [
    "pluots_all.head()"
   ]
  },
  {
   "cell_type": "code",
   "execution_count": null,
   "id": "2bc37720",
   "metadata": {},
   "outputs": [],
   "source": [
    "pluots_all.to_csv(\"pluots_all.csv\", index=False)"
   ]
  },
  {
   "cell_type": "code",
   "execution_count": null,
   "id": "a262daa4",
   "metadata": {},
   "outputs": [],
   "source": [
    "pluots_cleaned = pd.read_csv(\"pluots_cleaned.csv\")\n",
    "pluots_cleaned.head()"
   ]
  },
  {
   "cell_type": "code",
   "execution_count": null,
   "id": "a7101bdd",
   "metadata": {},
   "outputs": [],
   "source": [
    "pluots_cleaned.dtypes"
   ]
  },
  {
   "cell_type": "code",
   "execution_count": null,
   "id": "52ca4edd",
   "metadata": {},
   "outputs": [],
   "source": [
    "pluots_cleaned['year'] = pluots_cleaned['year'].astype('Int64')"
   ]
  },
  {
   "cell_type": "code",
   "execution_count": null,
   "id": "c436bb35",
   "metadata": {},
   "outputs": [],
   "source": [
    "pluots_cleaned['year'].value_counts().sort_index().plot(kind='bar')"
   ]
  },
  {
   "cell_type": "code",
   "execution_count": null,
   "id": "fb2ad6f1",
   "metadata": {},
   "outputs": [],
   "source": [
    "pluots_year_brix = pluots_cleaned[['pluot name', 'year', 'scraped_brix']]\n",
    "pluots_year_brix.head()"
   ]
  },
  {
   "cell_type": "code",
   "execution_count": null,
   "id": "f68ecef3",
   "metadata": {},
   "outputs": [],
   "source": [
    "pluots_year_brix.plot.scatter(x='year', y='scraped_brix')"
   ]
  },
  {
   "cell_type": "code",
   "execution_count": null,
   "id": "d96ce108",
   "metadata": {},
   "outputs": [],
   "source": [
    "pluots_taste = pd.read_csv(\"pluot_taste_scores.csv\")\n",
    "pluots_taste.head()"
   ]
  },
  {
   "cell_type": "code",
   "execution_count": null,
   "id": "d9e575b6",
   "metadata": {},
   "outputs": [],
   "source": [
    "pluots_taste.rename(columns={'name': 'pluot name'}, inplace=True)"
   ]
  },
  {
   "cell_type": "code",
   "execution_count": null,
   "id": "80c3202d",
   "metadata": {},
   "outputs": [],
   "source": [
    "pluots_taste.plot(kind='scatter', x='acid', y='flavor')"
   ]
  },
  {
   "cell_type": "code",
   "execution_count": null,
   "id": "e1e3da39",
   "metadata": {},
   "outputs": [],
   "source": [
    "pluots_taste.plot(kind='scatter', x='sugar', y='flavor')"
   ]
  },
  {
   "cell_type": "code",
   "execution_count": null,
   "id": "b612abd6",
   "metadata": {},
   "outputs": [],
   "source": [
    "pluots_taste.plot(kind='scatter', x='flavor', y='overall')"
   ]
  },
  {
   "cell_type": "code",
   "execution_count": null,
   "id": "f224e018",
   "metadata": {},
   "outputs": [],
   "source": [
    "pluots_taste_means = pluots_taste.groupby('pluot name')[['acid', 'sugar', 'flavor', 'overall']].mean()\n",
    "pluots_taste_means.head()"
   ]
  },
  {
   "cell_type": "code",
   "execution_count": null,
   "id": "0f75392a",
   "metadata": {},
   "outputs": [],
   "source": [
    "pluots_taste_merged = pd.merge(pluots_taste_means, pluots_cleaned[['pluot name', 'scraped_brix']], how='left', on='pluot name')\n",
    "pluots_taste_merged.head(10)"
   ]
  },
  {
   "cell_type": "code",
   "execution_count": null,
   "id": "fad73630",
   "metadata": {},
   "outputs": [],
   "source": [
    "pluots_taste_merged.plot(kind='scatter', x='scraped_brix', y='overall')"
   ]
  },
  {
   "cell_type": "code",
   "execution_count": null,
   "id": "a29c64e3",
   "metadata": {},
   "outputs": [],
   "source": [
    "pluots_taste_merged.plot(kind='scatter', x='sugar', y='flavor')"
   ]
  },
  {
   "cell_type": "markdown",
   "id": "9cea5d0e",
   "metadata": {},
   "source": [
    "# To look at pluot colors"
   ]
  },
  {
   "cell_type": "code",
   "execution_count": null,
   "id": "9f15f6d5",
   "metadata": {},
   "outputs": [],
   "source": [
    "import ast\n",
    "\n",
    "# from pluots_cleaned skin.hex and flesh.hex\n",
    "\n",
    "# Assuming the column with the hex lists is called 'colors'\n",
    "def extract_hexes(val):\n",
    "    try:\n",
    "        parsed = ast.literal_eval(val)\n",
    "        return [color for color in parsed if color is not None]\n",
    "    except (ValueError, SyntaxError):\n",
    "        return []\n",
    "\n",
    "# Flatten the entire column into one list of hex values\n",
    "all_skin_hexes = pluots_cleaned['skin.hex'].apply(extract_hexes).sum()\n",
    "all_flesh_hexes = pluots_cleaned['flesh.hex'].apply(extract_hexes).sum()"
   ]
  },
  {
   "cell_type": "code",
   "execution_count": null,
   "id": "d47b8dbe",
   "metadata": {},
   "outputs": [],
   "source": [
    "all_skin_hexes"
   ]
  },
  {
   "cell_type": "code",
   "execution_count": null,
   "id": "f3a60a63",
   "metadata": {},
   "outputs": [],
   "source": [
    "all_flesh_hexes"
   ]
  },
  {
   "cell_type": "code",
   "execution_count": null,
   "id": "528bf283",
   "metadata": {},
   "outputs": [],
   "source": [
    "import seaborn as sns\n",
    "\n",
    "sns.set_theme()\n",
    "\n",
    "def hex_to_rgb(hex_value):\n",
    "  h = hex_value.lstrip('#')\n",
    "  return tuple(int(h[i:i + 2], 16) / 255.0 for i in (0, 2, 4))\n",
    "\n",
    "all_skin_rgb = list(map(hex_to_rgb, all_skin_hexes))\n",
    "\n",
    "row_size = 37\n",
    "rows = [all_skin_rgb[i:i + row_size] for i in range(0, len(all_skin_rgb), row_size)]\n",
    "\n",
    "for row in rows:\n",
    "  sns.palplot(row)"
   ]
  },
  {
   "cell_type": "code",
   "execution_count": null,
   "id": "aa8c03d1",
   "metadata": {},
   "outputs": [],
   "source": [
    "all_flesh_rgb = list(map(hex_to_rgb, all_flesh_hexes))\n",
    "\n",
    "row_size = 40\n",
    "rows = [all_flesh_rgb[i:i + row_size] for i in range(0, len(all_flesh_rgb), row_size)]\n",
    "\n",
    "for row in rows:\n",
    "  sns.palplot(row)"
   ]
  },
  {
   "cell_type": "code",
   "execution_count": null,
   "id": "b52f5a32",
   "metadata": {},
   "outputs": [],
   "source": []
  }
 ],
 "metadata": {
  "kernelspec": {
   "display_name": "3.12.10",
   "language": "python",
   "name": "python3"
  },
  "language_info": {
   "codemirror_mode": {
    "name": "ipython",
    "version": 3
   },
   "file_extension": ".py",
   "mimetype": "text/x-python",
   "name": "python",
   "nbconvert_exporter": "python",
   "pygments_lexer": "ipython3",
   "version": "3.12.10"
  }
 },
 "nbformat": 4,
 "nbformat_minor": 5
}
