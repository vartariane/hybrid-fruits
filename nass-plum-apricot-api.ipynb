{
 "cells": [
  {
   "cell_type": "code",
   "execution_count": 5,
   "id": "5ff795af",
   "metadata": {},
   "outputs": [
    {
     "name": "stdout",
     "output_type": "stream",
     "text": [
      "{'error': ['unauthorized']}\n"
     ]
    }
   ],
   "source": [
    "import requests\n",
    "import pprint\n",
    "\n",
    "API_KEY = \"89C898C7-336C-371C-93E9-CA89538AAF92\"\n",
    "# IF PUTTING ON GITHUB, HIDE IN .ENV\n",
    "\n",
    "url = \"https://quickstats.nass.usda.gov/api/api_GET/?key=API_KEY&commodity_desc=PLUM-APRICOT%20HYBRIDS&format=json\"\n",
    "response = requests.get(url)\n",
    "data = response.json()\n",
    "pprint.pprint(data)"
   ]
  },
  {
   "cell_type": "code",
   "execution_count": null,
   "id": "5c0c5924",
   "metadata": {},
   "outputs": [],
   "source": []
  }
 ],
 "metadata": {
  "kernelspec": {
   "display_name": "3.12.10",
   "language": "python",
   "name": "python3"
  },
  "language_info": {
   "codemirror_mode": {
    "name": "ipython",
    "version": 3
   },
   "file_extension": ".py",
   "mimetype": "text/x-python",
   "name": "python",
   "nbconvert_exporter": "python",
   "pygments_lexer": "ipython3",
   "version": "3.12.10"
  }
 },
 "nbformat": 4,
 "nbformat_minor": 5
}
